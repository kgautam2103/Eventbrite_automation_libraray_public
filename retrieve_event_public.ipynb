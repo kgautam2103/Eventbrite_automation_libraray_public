{
  "nbformat": 4,
  "nbformat_minor": 0,
  "metadata": {
    "colab": {
      "name": "retrieve_event_public.ipynb",
      "provenance": [],
      "collapsed_sections": [],
      "authorship_tag": "ABX9TyOSQwtYpJz4CiNuPzNbuwE9",
      "include_colab_link": true
    },
    "kernelspec": {
      "name": "python3",
      "display_name": "Python 3"
    },
    "language_info": {
      "name": "python"
    }
  },
  "cells": [
    {
      "cell_type": "markdown",
      "metadata": {
        "id": "view-in-github",
        "colab_type": "text"
      },
      "source": [
        "<a href=\"https://colab.research.google.com/github/kgautam2103/Eventbrite_automation_libraray_public/blob/main/retrieve_event_public.ipynb\" target=\"_parent\"><img src=\"https://colab.research.google.com/assets/colab-badge.svg\" alt=\"Open In Colab\"/></a>"
      ]
    },
    {
      "cell_type": "code",
      "source": [
        "import json\n",
        "import requests\n",
        "\n",
        "#auth token for Eventbrite account admin user\n",
        "auth_token = ''\n",
        "authorization = 'Bearer '+auth_token\n",
        "headers = {\n",
        "        'Authorization': authorization,\n",
        "        'Content-Type': 'application/json'\n",
        "    }\n",
        "\n",
        "prod_url = 'https://www.eventbriteapi.com/v3/events/'\n",
        "event_id = input(\"enter the event_id: \")\n",
        "retrieve_url = prod_url+str(event_id.strip())\n",
        "print(retrieve_url)\n",
        "\n",
        "retrieve_response = requests.get(retrieve_url,headers=headers)\n",
        "\n",
        "print(retrieve_response.json())\n",
        "\n",
        "\n"
      ],
      "metadata": {
        "colab": {
          "base_uri": "https://localhost:8080/"
        },
        "id": "RZyM6TfiQEhX",
        "outputId": "4af61409-0574-4eb2-e0e4-14594926ab6c"
      },
      "execution_count": null,
      "outputs": [
        {
          "output_type": "stream",
          "name": "stdout",
          "text": [
            "enter the event_id: 268936324787\n",
            "https://www.eventbriteapi.com/v3/events/268936324787\n",
            "{'name': {'text': 'Free March Meditation Course: I can get enlightened in Seattle!', 'html': 'Free March Meditation Course: I can get enlightened in Seattle!'}, 'description': {'text': 'Finally made up mind to seek spiritual awakening and enlightenment?  21 days free spiritual meditation course in March to change your life.', 'html': 'Finally made up mind to seek spiritual awakening and enlightenment?  21 days free spiritual meditation course in March to change your life.'}, 'url': 'https://www.eventbrite.co.nz/e/free-march-meditation-course-i-can-get-enlightened-in-seattle-tickets-268936324787', 'start': {'timezone': 'America/Los_Angeles', 'local': '2022-03-05T17:45:00', 'utc': '2022-03-06T01:45:00Z'}, 'end': {'timezone': 'America/Los_Angeles', 'local': '2022-03-06T19:00:00', 'utc': '2022-03-07T03:00:00Z'}, 'organization_id': '793996911983', 'created': '2022-02-14T14:48:15Z', 'changed': '2022-02-15T05:23:22Z', 'published': '2022-02-15T05:23:22Z', 'capacity': 7, 'capacity_is_custom': False, 'status': 'live', 'currency': 'USD', 'listed': True, 'shareable': True, 'invite_only': False, 'online_event': False, 'show_remaining': True, 'tx_time_limit': 1200, 'hide_start_date': False, 'hide_end_date': False, 'locale': 'en_US', 'is_locked': False, 'privacy_setting': 'unlocked', 'is_series': True, 'is_series_parent': True, 'inventory_type': 'limited', 'is_reserved_seating': False, 'show_pick_a_seat': False, 'show_seatmap_thumbnail': False, 'show_colors_in_seatmap_thumbnail': False, 'source': 'coyote', 'is_free': True, 'version': None, 'summary': 'Finally made up mind to seek spiritual awakening and enlightenment?  21 days free spiritual meditation course in March to change your life.', 'facebook_event_id': None, 'logo_id': '229589419', 'organizer_id': '41015572213', 'venue_id': '83692839', 'category_id': '114', 'subcategory_id': '14009', 'format_id': '10', 'id': '268936324787', 'resource_uri': 'https://www.eventbriteapi.com/v3/series/268936324787/', 'logo': {'crop_mask': {'top_left': {'x': 0, 'y': 78}, 'width': 800, 'height': 400}, 'original': {'url': 'https://img.evbuc.com/https%3A%2F%2Fcdn.evbuc.com%2Fimages%2F229589419%2F647919780083%2F1%2Foriginal.20220213-065035?auto=format%2Ccompress&q=75&sharp=10&s=e32422b10f53134711fa25b394baa687', 'width': 800, 'height': 534}, 'id': '229589419', 'url': 'https://img.evbuc.com/https%3A%2F%2Fcdn.evbuc.com%2Fimages%2F229589419%2F647919780083%2F1%2Foriginal.20220213-065035?h=200&w=450&auto=format%2Ccompress&q=75&sharp=10&rect=0%2C78%2C800%2C400&s=2a189dab2d8cb9c97e7a68dbbd7d88a6', 'aspect_ratio': '2', 'edge_color': '#a49295', 'edge_color_set': True}}\n"
          ]
        }
      ]
    }
  ]
}