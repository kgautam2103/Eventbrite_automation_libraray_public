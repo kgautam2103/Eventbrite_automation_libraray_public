{
  "nbformat": 4,
  "nbformat_minor": 0,
  "metadata": {
    "colab": {
      "name": "delete_events_eventbrite_public.ipynb",
      "provenance": [],
      "collapsed_sections": [],
      "authorship_tag": "ABX9TyMUrkFNbNoJBnEv6/P9K6ES",
      "include_colab_link": true
    },
    "kernelspec": {
      "name": "python3",
      "display_name": "Python 3"
    },
    "language_info": {
      "name": "python"
    }
  },
  "cells": [
    {
      "cell_type": "markdown",
      "metadata": {
        "id": "view-in-github",
        "colab_type": "text"
      },
      "source": [
        "<a href=\"https://colab.research.google.com/github/kgautam2103/Eventbrite_automation_libraray_public/blob/main/delete_events_eventbrite_public.ipynb\" target=\"_parent\"><img src=\"https://colab.research.google.com/assets/colab-badge.svg\" alt=\"Open In Colab\"/></a>"
      ]
    },
    {
      "cell_type": "code",
      "metadata": {
        "id": "DowoNriqktX3"
      },
      "source": [
        "# when you run this code, you will get a link below\n",
        "#Follow the link, copy the code, paste it in the box and then press Enter on the keyboard.\n",
        "#This will authenticate you and will allow you to interact with Google Sheets and other Google apps in your notebook.\n",
        "from google.colab import auth\n",
        "auth.authenticate_user()\n",
        "import gspread\n",
        "from oauth2client.client import GoogleCredentials\n",
        "gc = gspread.authorize(GoogleCredentials.get_application_default())"
      ],
      "execution_count": null,
      "outputs": []
    },
    {
      "cell_type": "code",
      "metadata": {
        "colab": {
          "base_uri": "https://localhost:8080/"
        },
        "id": "buQ8rzZxk11P",
        "outputId": "92ef2d80-2d5b-45fc-ac11-d6eb4b518410"
      },
      "source": [
        "import pandas as pd\n",
        "import requests\n",
        "import json\n",
        "from datetime import datetime\n",
        "\n",
        "#define global variables\n",
        "#auth token for Eventbrite account admin user\n",
        "auth_token = ''\n",
        "prod_url = 'https://www.eventbriteapi.com/v3/'\n",
        "prod_proxy_url= 'https://private-anon-a95bf0df64-eventbriteapiv3public.apiary-proxy.com/v3/'\n",
        "mock_url='https://private-anon-86d996fd56-eventbriteapiv3public.apiary-mock.com/v3/'\n",
        "org = 'organizations/'\n",
        "venues= '/venues/'\n",
        "events= 'events/'\n",
        "copy= '/copy/'\n",
        "publish= '/publish/'\n",
        "current_ts = datetime.now().strftime('%Y%m%d%H%M%S')\n",
        "output_sheet = current_ts+'_delete_output'\n",
        "counter=1\n",
        "\n",
        "\n",
        "authorization = 'Bearer ' + auth_token\n",
        "auth_headers = {\n",
        "    'Authorization': authorization,\n",
        "    'Content-Type': 'application/json'\n",
        "    }\n",
        "\n",
        "wb = gc.open_by_url('https://docs.google.com/spreadsheets/d/1qqkU8TFyJxbu8ccem3cGWr61JRqk3m46NNYuPEakt2o/edit#gid=0')\n",
        "\n",
        "# create and Open our new sheet and add some data.\n",
        "sh = gc.create(output_sheet)\n",
        "output_sheet = gc.open(output_sheet).sheet1\n",
        "\n",
        "output_sheet.insert_row(['event_id',\t'is_deleted', 'error'],1)\n",
        "\n",
        "\n",
        "input = wb.worksheet('sampledata')\n",
        "inputdata = input.get_all_values()\n",
        "inputdata_df = pd.DataFrame(inputdata, columns=['event_id'])\n",
        "inputdata_df = inputdata_df.drop(inputdata_df.index[0])\n",
        "\n",
        "for index, row in inputdata_df.iterrows():\n",
        "  counter = counter+1\n",
        "  is_deleted = False\n",
        "  delete_error = \"\"\n",
        "  cell_value_list = []\n",
        "  event_id = str(row['event_id']).strip()\n",
        "  delete_event_url = prod_url+events+event_id\n",
        "  delete_response = requests.delete(delete_event_url,headers=auth_headers)\n",
        "  delete_status = delete_response.status_code\n",
        "  print(\"event_id \"+event_id)\n",
        "  print(delete_response.text)\n",
        "  if delete_status == 200:\n",
        "    is_deleted = True\n",
        "  else:\n",
        "    delete_error = delete_response.text\n",
        "\n",
        "  cell_value_list = [event_id,is_deleted,delete_error]\n",
        "  output_sheet.insert_row(cell_value_list,counter)"
      ],
      "execution_count": null,
      "outputs": [
        {
          "output_type": "stream",
          "name": "stdout",
          "text": [
            "event_id 263773703247\n",
            "{\"deleted\":true}\n",
            "event_id 263773723307\n",
            "{\"deleted\":true}\n"
          ]
        }
      ]
    }
  ]
}