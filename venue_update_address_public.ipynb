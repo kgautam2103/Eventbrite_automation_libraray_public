{
  "nbformat": 4,
  "nbformat_minor": 0,
  "metadata": {
    "colab": {
      "name": "venue_update_address_public.ipynb",
      "provenance": [],
      "collapsed_sections": [],
      "authorship_tag": "ABX9TyPaMhwpTiSdSl1FXWSMrHfl",
      "include_colab_link": true
    },
    "kernelspec": {
      "name": "python3",
      "display_name": "Python 3"
    },
    "language_info": {
      "name": "python"
    }
  },
  "cells": [
    {
      "cell_type": "markdown",
      "metadata": {
        "id": "view-in-github",
        "colab_type": "text"
      },
      "source": [
        "<a href=\"https://colab.research.google.com/github/kgautam2103/Eventbrite_automation_libraray_public/blob/main/venue_update_address_public.ipynb\" target=\"_parent\"><img src=\"https://colab.research.google.com/assets/colab-badge.svg\" alt=\"Open In Colab\"/></a>"
      ]
    },
    {
      "cell_type": "code",
      "metadata": {
        "id": "dnBX9iokspzY"
      },
      "source": [
        "# when you run this code, you will get a link below\n",
        "#Follow the link, copy the code, paste it in the box and then press Enter on the keyboard.\n",
        "#This wil authenticate you and will allow you to interact with Google Sheets and other Google apps in your notebook.\n",
        "from google.colab import auth\n",
        "auth.authenticate_user()\n",
        "import gspread\n",
        "from oauth2client.client import GoogleCredentials\n",
        "gc = gspread.authorize(GoogleCredentials.get_application_default())"
      ],
      "execution_count": null,
      "outputs": []
    },
    {
      "cell_type": "code",
      "metadata": {
        "id": "Rilh5R7JvX_d"
      },
      "source": [
        "import pandas as pd\n",
        "import requests\n",
        "import json\n",
        "from datetime import datetime, timedelta, timezone\n",
        "from dateutil import parser\n",
        "from google.colab import files\n",
        "\n",
        "#auth token for zoom account admin user\n",
        "auth_token = ''\n",
        "prod_url = 'https://www.eventbriteapi.com/v3/'\n",
        "venues= '/venues/'\n",
        "counter=1\n",
        "\n",
        "\n",
        "current_ts = datetime.now().strftime('%Y%m%d%H%M%S')\n",
        "output_sheet = current_ts+'_venue_update_output'\n",
        "output_csv = current_ts+'_venue_update_output.csv'\n",
        "\n",
        "sh = gc.create(output_sheet)\n",
        "output_sheet = gc.open(output_sheet).sheet1\n",
        "\n",
        "output_sheet.insert_row(['venue_id','update_status','response_text'],counter)\n",
        "\n",
        "#final_ouput_df = pd.DataFrame(columns=['parent_event_id','child_event_id','new_start_date','new_end_date','update_status','response_text' ])\n",
        "final_output_list=[]\n",
        "\n",
        "authorization = 'Bearer ' + auth_token\n",
        "auth_headers = {\n",
        "    'Authorization': authorization,\n",
        "    'Content-Type': 'application/json'\n",
        "    }\n",
        "\n",
        "wb = gc.open_by_url('https://docs.google.com/spreadsheets/d/155uRaj3ZbiCNus9ACup5E1BLnUAEqyv0BdgAPhj5lEw/edit#gid=0')\n",
        "\n",
        "input_sheet = wb.worksheet('inputdata')\n",
        "inputdata = input_sheet.get_all_values()\n",
        "inputdata_df = pd.DataFrame(inputdata, columns=['venue_id'])\n",
        "inputdata_df = inputdata_df.drop(inputdata_df.index[0])\n",
        "\n",
        "for iter,row in inputdata_df.iterrows():\n",
        "  venue_id = row['venue_id'].strip()\n",
        "  \n",
        "  print('venue_id is ' +venue_id)\n",
        "  update_request_body = {\n",
        "  \"venue\": {\n",
        "    \"address\": {\"address_1\": \"https://zoom.us/j/9700172269?pwd=Y2xQT0NhT1Rtak16Z3pTaFQ1Y1Q2QT09\"}\n",
        "  }\n",
        "  }\n",
        "\n",
        "  update_event_values = json.dumps(update_request_body)\n",
        "  print(update_event_values)\n",
        "  update_event_url = prod_url+venues+venue_id+\"/\"\n",
        "  update_response = requests.post(update_event_url, data=update_event_values, headers=auth_headers)\n",
        "  update_status = update_response.status_code\n",
        "  update_response_text = update_response.text\n",
        "  print(update_response_text)\n",
        "  output_value_list=[venue_id,update_status,update_response_text]\n",
        "  output_sheet.insert_row(output_value_list,counter)\n",
        "  final_output_list.append(output_value_list)\n",
        "\n",
        "\n",
        "\n",
        "final_output_df = pd.DataFrame(final_output_list,columns=['venue_id','update_status','response_text' ])\n",
        "final_output_df.to_csv(output_csv)\n",
        "files.download(output_csv)\n"
      ],
      "execution_count": null,
      "outputs": []
    }
  ]
}